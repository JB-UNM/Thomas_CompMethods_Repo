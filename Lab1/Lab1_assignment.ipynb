{
 "cells": [
  {
   "cell_type": "markdown",
   "metadata": {},
   "source": [
    "# EPS400/522\n",
    "#### Computational Methods for Geoscience - Fall 2023\n",
    "#### Instructor: Eric Lindsey\n",
    "---------"
   ]
  },
  {
   "cell_type": "markdown",
   "metadata": {},
   "source": [
    "# Assignments for Lab 1"
   ]
  },
  {
   "cell_type": "markdown",
   "metadata": {},
   "source": [
    "This notebook contains some assignments (or puzzles) you should try to solve to improve your understanding of python and make sure you understood the things you read in the examples notebook. Some of them are harder than others, don't feel bad if the solution seems unreachable or confusing! This is all part of the learning process. If you are stuck, feel free to ask your neighbor, the instructors, google, or even a Chat AI for help. \n",
    "\n",
    "It's OK if you don't get through everything. The last assignments especially are designed to challenge you, and if they feel overwhelming now, try coming back to them in a couple days - you may be surprised how much you've learned!\n",
    "\n",
    "This assignment will not be graded and you don't need to turn it in (unless you want to)!"
   ]
  },
  {
   "cell_type": "markdown",
   "metadata": {},
   "source": [
    "### 0. Bug Assignment:"
   ]
  },
  {
   "cell_type": "code",
   "execution_count": 1,
   "metadata": {},
   "outputs": [
    {
     "name": "stdout",
     "output_type": "stream",
     "text": [
      "I have fixed the bugs!\n"
     ]
    }
   ],
   "source": [
    "#This cell has two bugs. First run it to see the error message, then try to fix the bugs one at a time.\n",
    "\n",
    "print(\"I have fixed the bugs!\")"
   ]
  },
  {
   "cell_type": "markdown",
   "metadata": {},
   "source": [
    "### 1. Variables assignment: radians/degrees\n",
    "Create a variable called \"deg2rad\" that will convert degrees into radians whenever you multiply it by a value in degrees. For example, we want this to work correctly for any value `number_in_degrees`:\n",
    "\n",
    "    number_in_radians = number_in_degrees * deg2rad\n",
    "\n",
    "Test your work by demonstrating that 180 degrees is equal to pi radians.\n",
    "\n",
    "Then compute 1 degree in radians, and 1 radian in degrees.\n",
    "\n",
    "Hint: radians = degrees * pi / 180 \n",
    "\n",
    "Second hint: to use a more exact value of \"pi\", you have to import numpy as np. Then you can use \"np.pi\"\n"
   ]
  },
  {
   "cell_type": "code",
   "execution_count": 13,
   "metadata": {},
   "outputs": [
    {
     "name": "stdout",
     "output_type": "stream",
     "text": [
      "180 degrees is 3.141592653589793 radians\n",
      "3.141592653589793 radians is 180.0 degrees\n"
     ]
    }
   ],
   "source": [
    "# put your work here.\n",
    "\n",
    "import numpy as np\n",
    "\n",
    "def deg2rad(degrees):\n",
    "    radians=np.pi * degrees / 180\n",
    "    return radians\n",
    "\n",
    "def rad2deg(radians):\n",
    "    degrees = 180/np.pi * radians\n",
    "    return degrees\n",
    "\n",
    "print(f'180 degrees is {deg2rad(180)} radians')\n",
    "print(f'{np.pi} radians is {rad2deg(np.pi)} degrees')\n"
   ]
  },
  {
   "cell_type": "markdown",
   "metadata": {},
   "source": [
    "### 2. Numbers assignment\n",
    "Write a function that will calculate the time that a signal takes to reach us from a GPS satellite, given the speed of light is roughly 2.99 x 10^8 meters/second. The altitude of the GPS satellite above the surface of Earth is 20,000 kilometers. \n",
    "\n",
    "You have the following tasks:\n",
    "\n",
    "(a) Define a variable for the speed of light, using scientific notation. In python this is done with 'e'. For example, `4.34e5` is equal to 434,000\n"
   ]
  },
  {
   "cell_type": "code",
   "execution_count": null,
   "metadata": {},
   "outputs": [],
   "source": [
    "light_speed=2.99e8"
   ]
  },
  {
   "cell_type": "markdown",
   "metadata": {},
   "source": [
    "(b) Define a variable for the altitude of the GPS satellite, in meters, also using scientific notation (be careful of units here!)\n",
    "\n",
    " "
   ]
  },
  {
   "cell_type": "code",
   "execution_count": null,
   "metadata": {},
   "outputs": [],
   "source": [
    "altitude = 20000 * 1000"
   ]
  },
  {
   "cell_type": "markdown",
   "metadata": {},
   "source": [
    " (c) Use the formula Time = Distance/Velocity, to calculate the time required by the signal to reach the Earth from the GPS satellite Assign the result to a new variable and print out the result.\n",
    "\n"
   ]
  },
  {
   "cell_type": "code",
   "execution_count": 17,
   "metadata": {},
   "outputs": [
    {
     "name": "stdout",
     "output_type": "stream",
     "text": [
      "Travel time is 0.06688963210702341 seconds\n"
     ]
    }
   ],
   "source": [
    "light_speed=2.99e8\n",
    "altitude = 20000 * 1000\n",
    "\n",
    "travel_time = altitude / light_speed\n",
    "print(f'Travel time is {travel_time} seconds')"
   ]
  },
  {
   "cell_type": "markdown",
   "metadata": {},
   "source": [
    "### 3. String assignment: \n",
    "Using the altitude and travel-time variables you calculated in part 2 above, print out the time traveled by the signal as a nicely formatted sentence:\n",
    "\n",
    "    The time taken by the signal from a GPS satellite at an altitude of XXXX km to reach the Earth is X.XXXXX seconds.\n",
    "\n",
    "  TIP: to print a variable using print() use the following syntax, where %f is the place-holder for a floating point variable, given with %variable at the end of the line:\n",
    "\n",
    "\n",
    "      print ('the variable value is %f' %value) \n",
    "      \n",
    "You can use other formatting options: %s for strings, and %d for integers. If you want to include more than one variable, you can list them in parentheses:\n",
    "\n",
    "\n",
    "      print ('the first value is %f, the second is %d' %(value1,value2)) \n",
    "      \n",
    "Finally, for floating point values you can control the number of values after the decimal point with e.g. \"%.2f\" for 2 decimal values.\n",
    "\n",
    "Note, this is only one way of generating nicely formatted strings. Check out this page for (much) more information if you are interested: https://realpython.com/python-string-formatting/"
   ]
  },
  {
   "cell_type": "code",
   "execution_count": 28,
   "metadata": {},
   "outputs": [
    {
     "name": "stdout",
     "output_type": "stream",
     "text": [
      "The time taken by the signal from a GPS satellite at an altitude of 20000 km to reach the Earth is 0.07 seconds\n"
     ]
    }
   ],
   "source": [
    "light_speed=2.99e8\n",
    "altitude = 20000 * 1000\n",
    "\n",
    "travel_time = altitude / light_speed\n",
    "\n",
    "print('The time taken by the signal from a GPS satellite at an altitude of %d km to reach the Earth is %.2f seconds' %(altitude/1000, travel_time))"
   ]
  },
  {
   "cell_type": "markdown",
   "metadata": {},
   "source": [
    "### 4. Expression assignment\n",
    "Define a variable, then create an expression that determines whether one computation done with that variable is larger than or smaller than another one. Your expression should return either \"True\" or \"False\" and save that value to a new variable. Then print out both the value and the type of that variable."
   ]
  },
  {
   "cell_type": "code",
   "execution_count": 33,
   "metadata": {},
   "outputs": [
    {
     "name": "stdout",
     "output_type": "stream",
     "text": [
      "True, <class 'bool'>\n"
     ]
    }
   ],
   "source": [
    "var1 = 3\n",
    "\n",
    "if (var1*3) > (var1^3):\n",
    "    greater=True\n",
    "else:\n",
    "    greater=False\n",
    "\n",
    "print(f'{greater}, {type(greater)}')"
   ]
  },
  {
   "cell_type": "markdown",
   "metadata": {},
   "source": [
    "### 5. List assignment: \n",
    "\n",
    "a. Add 'kiwi' to the following list, before 'cherry', and print out the result"
   ]
  },
  {
   "cell_type": "code",
   "execution_count": 35,
   "metadata": {},
   "outputs": [
    {
     "name": "stdout",
     "output_type": "stream",
     "text": [
      "['apple', 'banana', 'kiwi', 'cherry']\n"
     ]
    }
   ],
   "source": [
    "thislist = [\"apple\", \"banana\", \"cherry\"]\n",
    "thislist.insert(2, \"kiwi\")\n",
    "\n",
    "print(thislist)"
   ]
  },
  {
   "cell_type": "markdown",
   "metadata": {},
   "source": [
    "b. Create a list containing days of the week (starting with Sunday). Write a statement that indexes this list given an integer from 1 to 7 (defined as a variable \"dayNum\"), and prints out that day of the week. Note that if dayNum=1, your statement should print out Sunday - you will have to deal with the zero-indexing issue of Python!"
   ]
  },
  {
   "cell_type": "code",
   "execution_count": 40,
   "metadata": {},
   "outputs": [
    {
     "name": "stdout",
     "output_type": "stream",
     "text": [
      "Tuesday\n"
     ]
    }
   ],
   "source": [
    "days = [\"Sunday\", \"Monday\", \"Tuesday\", \"Wednesday\", \"Thursday\", \"Friday\", \"Saturday\"]\n",
    "\n",
    "def WhatDay(dayNum, days_list):\n",
    "    dayZeroIndex = dayNum - 1\n",
    "    return (days_list[dayZeroIndex])\n",
    "\n",
    "print(WhatDay(3, days))"
   ]
  },
  {
   "cell_type": "markdown",
   "metadata": {},
   "source": [
    "### 6. Array assignment: Create a 3x3 array, and print out only the middle column."
   ]
  },
  {
   "cell_type": "code",
   "execution_count": 47,
   "metadata": {},
   "outputs": [
    {
     "name": "stdout",
     "output_type": "stream",
     "text": [
      "[[ 2  3  4]\n",
      " [ 5  6  7]\n",
      " [ 8  9 10]]\n",
      "Middle column is:\n",
      "[3 6 9]\n"
     ]
    }
   ],
   "source": [
    "array = np.arange(2, 11).reshape(3,3)\n",
    "print(array)\n",
    "print(\"Middle column is:\")\n",
    "print(array[ :,1])"
   ]
  },
  {
   "cell_type": "markdown",
   "metadata": {},
   "source": [
    "### 7. Conditionals assignment:\n",
    "Create a 2x2 numpy array, then compare the [0,0] and [1,1] elements of the array, and give a message about which is larger."
   ]
  },
  {
   "cell_type": "code",
   "execution_count": 64,
   "metadata": {},
   "outputs": [
    {
     "name": "stdout",
     "output_type": "stream",
     "text": [
      "[[98 42]\n",
      " [85  9]]\n",
      "[0,0] is larger with a value of 98\n"
     ]
    }
   ],
   "source": [
    "array = np.random.randint(100, size=(2,2))\n",
    "print(array)\n",
    "\n",
    "if array[0, 0] > array[1, 1]:\n",
    "    print(f'[0,0] is larger with a value of {array[0,0]}')\n",
    "elif array[0, 0] == array[1, 1]:\n",
    "    print(f'Both entries have the same value of {array[0,0]}')\n",
    "else:\n",
    "    print(f'[1,1] is larger with a value of {array[1,1]}')\n"
   ]
  },
  {
   "cell_type": "markdown",
   "metadata": {},
   "source": [
    "### 8. Loops assignment:\n",
    "a. Create a nested for loop (two for loops inside each other) that populate the values of a 5x5 numpy array with the product of the two array index values. E.g:\n",
    "\n",
    "    myarray[i,j] = i*j\n",
    "    \n",
    "Hint: we will first need to create a blank array of size 5x5. To do this, we use the following syntax:\n",
    "\n",
    "    myarray=np.zeros((5,5))"
   ]
  },
  {
   "cell_type": "code",
   "execution_count": 71,
   "metadata": {},
   "outputs": [
    {
     "name": "stdout",
     "output_type": "stream",
     "text": [
      "[[ 0.  0.  0.  0.  0.]\n",
      " [ 0.  1.  2.  3.  4.]\n",
      " [ 0.  2.  4.  6.  8.]\n",
      " [ 0.  3.  6.  9. 12.]\n",
      " [ 0.  4.  8. 12. 16.]]\n"
     ]
    }
   ],
   "source": [
    "array = np.zeros((5,5))\n",
    "\n",
    "for row in range(5):\n",
    "    for column in range(5):\n",
    "        val = row * column\n",
    "        array[row, column] = val\n",
    "\n",
    "print(array)\n",
    "        "
   ]
  },
  {
   "cell_type": "markdown",
   "metadata": {},
   "source": [
    "b. Use a while loop to keep rolling a dice, and only stop when you roll a 6. To roll a dice from 1 to 6 in python, we can use:\n",
    "\n",
    "    a = np.random.randint(1,7)\n",
    "\n",
    "**Warning**: When trying out while loops, user beware! If you cause a bug that makes it run forever, use the square \"stop\" button at the top of the page. Occasionally it may crash your jupyter page.\n",
    "\n",
    "**Note**: It's a good idea to use more informative variable names. Instead of calling your dice roll \"a\", give it a more informative name. This is a good habit to get into early on!"
   ]
  },
  {
   "cell_type": "code",
   "execution_count": 75,
   "metadata": {},
   "outputs": [
    {
     "name": "stdout",
     "output_type": "stream",
     "text": [
      "Rolling!\n",
      "Rolled a 3\n",
      "Rolling!\n",
      "Rolled a 3\n",
      "Rolling!\n",
      "Rolled a 2\n",
      "Rolling!\n",
      "Rolled a 4\n",
      "Rolling!\n",
      "Rolled a 4\n",
      "Rolling!\n",
      "Rolled a 1\n",
      "Rolling!\n",
      "Rolled a 6\n"
     ]
    }
   ],
   "source": [
    "roll = 0\n",
    "\n",
    "while roll != 6:\n",
    "    print(\"Rolling!\")\n",
    "    roll = np.random.randint(1, 7)\n",
    "    print(f'Rolled a {roll}')"
   ]
  },
  {
   "cell_type": "markdown",
   "metadata": {},
   "source": [
    "### 9. Functions assignment: \n",
    "With all you've learned so far, you are now able to write some more or less fully-fledged programs! Here are a few exercises to practice your function mastery. For each one, give the function a sensible name, and test it with a few different inputs to make sure it works as you expect. "
   ]
  },
  {
   "cell_type": "markdown",
   "metadata": {},
   "source": [
    "a. Write a function that accepts 2 inputs: a string, and a number. The function should use a loop to print out the input string the specified number of times. Then call the function, using your name and favorite number as the input"
   ]
  },
  {
   "cell_type": "code",
   "execution_count": 76,
   "metadata": {},
   "outputs": [
    {
     "name": "stdout",
     "output_type": "stream",
     "text": [
      "This is a test!\n",
      "This is a test!\n",
      "This is a test!\n",
      "This is a test!\n",
      "This is a test!\n",
      "This is a test!\n",
      "This is a test!\n"
     ]
    }
   ],
   "source": [
    "def multi_print(string, times):\n",
    "    for repeating in range(times):\n",
    "        print(string)\n",
    "\n",
    "multi_print(\"This is a test!\", 7)"
   ]
  },
  {
   "cell_type": "markdown",
   "metadata": {},
   "source": [
    "b. Convert your answer to question 1 above into a function called \"deg2rad\" that will convert any number input in degrees to radians\n"
   ]
  },
  {
   "cell_type": "code",
   "execution_count": null,
   "metadata": {},
   "outputs": [],
   "source": [
    "import numpy as np\n",
    "\n",
    "def deg2rad(degrees):\n",
    "    radians=np.pi * degrees / 180\n",
    "    return radians\n",
    "\n",
    "def rad2deg(radians):\n",
    "    degrees = 180/np.pi * radians\n",
    "    return degrees\n",
    "\n",
    "print(f'180 degrees is {deg2rad(180)} radians')\n",
    "print(f'{np.pi} radians is {rad2deg(np.pi)} degrees')"
   ]
  },
  {
   "cell_type": "markdown",
   "metadata": {},
   "source": [
    "c. Write a function that will convert geographic coordinates in degree (D), minute (M), second (S) to decimal degrees format (DMS to DD.DDDD)\n",
    "    \n",
    "      Hint: 1 minute = 1/60 degree, 1 second = 1/3600  degree"
   ]
  },
  {
   "cell_type": "code",
   "execution_count": 77,
   "metadata": {},
   "outputs": [
    {
     "name": "stdout",
     "output_type": "stream",
     "text": [
      "150.59583333333333\n"
     ]
    }
   ],
   "source": [
    "def DMS_to_DD(D, M, S):\n",
    "    DD = D + ((1/60) * M) + ((1/3600) * S)\n",
    "    return DD\n",
    "\n",
    "print(DMS_to_DD(150, 35, 45))"
   ]
  },
  {
   "cell_type": "markdown",
   "metadata": {},
   "source": [
    "d. (Complicated!) Write a function that will input year, month, day and output day of year (the so-called \"Julian date\")\n",
    "\n",
    "   Tricky: beware of leap years, which are any years that can be exactly divided by 4, but not by 100 - i.e. 2004 is a leap year but 2000 is not.\n",
    "   \n",
    "   Hint: Python has a 'modulo' division symbol (%) that gives the remainder of division; this can tell you if a number is exactly divisible: for example, try 2015 % 4, and 2016 % 4\n",
    "   "
   ]
  },
  {
   "cell_type": "code",
   "execution_count": 107,
   "metadata": {},
   "outputs": [
    {
     "name": "stdout",
     "output_type": "stream",
     "text": [
      "Julian Date is 334\n"
     ]
    }
   ],
   "source": [
    "def julian_date(year, month, day):\n",
    "    calendar_dict = {\n",
    "        \"January\": [1, 31],\n",
    "        \"February\": [2, 28],\n",
    "        \"March\": [3, 31],\n",
    "        \"April\": [4, 30],\n",
    "        \"May\": [5, 31],\n",
    "        \"June\": [6, 30],\n",
    "        \"July\": [7, 31],\n",
    "        \"August\": [8, 31],\n",
    "        \"September\": [9, 30],\n",
    "        \"October\": [10, 31],\n",
    "        \"November\": [11, 30],\n",
    "        \"December\": [12, 31]\n",
    "    }\n",
    "\n",
    "    if  year % 4 == 0: # Sets February's length to 29 during leap years\n",
    "        calendar_dict[\"February\"][1] = 29\n",
    "\n",
    "    if month not in calendar_dict: # Several checks to see if day/month actually exists\n",
    "        print('Invalid month')\n",
    "        return\n",
    "    if day > calendar_dict[month][1]:\n",
    "        print('Invalid day')\n",
    "        return\n",
    "    elif day <= 0:\n",
    "        print('Invalid day')\n",
    "        return\n",
    "    \n",
    "    sum = 0\n",
    "    max_month = calendar_dict[month][0] - 1 # We only want to add all the days from predecessing months\n",
    "    \n",
    "    for cur_month in calendar_dict: # Adds the length of previous months to our sum\n",
    "        if calendar_dict[cur_month][0] <= max_month:\n",
    "            sum += calendar_dict[cur_month][1]\n",
    "\n",
    "    sum += day # Adds the number of days in this month\n",
    "\n",
    "    return sum # Returns the day instead of printing for flexibility\n",
    "\n",
    "print(f'Julian Date is {julian_date(2000, \"November\", 29)}')"
   ]
  },
  {
   "cell_type": "markdown",
   "metadata": {},
   "source": [
    "e. Optional: Re-do problem d, but using the built-in python module 'datetime'. Use google to find the manual for the datetime module. You may find the code is much shorter!"
   ]
  },
  {
   "cell_type": "code",
   "execution_count": 110,
   "metadata": {},
   "outputs": [
    {
     "name": "stdout",
     "output_type": "stream",
     "text": [
      "334\n"
     ]
    }
   ],
   "source": [
    "# ObsPy has a built in Julian day function that I find to be even easier than Python's date time\n",
    "\n",
    "from obspy.core import UTCDateTime\n",
    "\n",
    "test_time = UTCDateTime(\"2000-11-29\")\n",
    "print(test_time.julday)"
   ]
  },
  {
   "cell_type": "markdown",
   "metadata": {},
   "source": [
    "### 10. Optional Assignment: modules"
   ]
  },
  {
   "cell_type": "markdown",
   "metadata": {},
   "source": [
    "Make a module that contains a function that computes distance on a sphere by implementing one of the distance algorithms from https://en.wikipedia.org/wiki/Great-circle_distance.\n",
    "\n",
    "Then import the module here, and compute the distance between Albuquerque (Lon, Lat: -106.62, 35.08) and your dream vacation destination.\n"
   ]
  },
  {
   "cell_type": "code",
   "execution_count": 47,
   "metadata": {},
   "outputs": [
    {
     "name": "stdout",
     "output_type": "stream",
     "text": [
      "Calculating dist using sigfigs = 3\n",
      "Distance between these points is: 838.738 kilometers\n"
     ]
    }
   ],
   "source": [
    "import numpy as np\n",
    "\n",
    "def Great_Circle(Loc1_Lon,Loc1_Lat,Loc2_Lon,Loc2_Lat,radius=6371.009, sigfigs=3):\n",
    "    \"\"\"\n",
    "    Args:\n",
    "    Loc1_Lon: Longitude of the first location\n",
    "    Loc1_Lat: Latitude of the first location\n",
    "\n",
    "    Loc2_Lon: Longitude of the first location\n",
    "    Loc2_Lat: Latitude of the first location\n",
    "\n",
    "    radius: Radius of Earth, defaults to 6371.009 kilometers because it provides the average smallest error\n",
    "    sigfigs: Place to round to, set to false if no rounding desired.\n",
    "    \n",
    "    Returns:\n",
    "    dist: Distance, in kilometers, between the two locations\n",
    "    \"\"\"\n",
    "\n",
    "    # Making various checkpoints in the function for legibility and bug finding\n",
    "    Loc1_Lon = np.deg2rad(Loc1_Lon)\n",
    "    Loc1_Lat = np.deg2rad(Loc1_Lat)\n",
    "    Loc2_Lon = np.deg2rad(Loc2_Lon)\n",
    "    Loc2_Lat = np.deg2rad(Loc2_Lat)\n",
    "\n",
    "    deltaLon = np.abs(Loc2_Lon - Loc1_Lon)\n",
    "    check1 = (np.cos(Loc2_Lat) * np.sin(deltaLon))**2\n",
    "    check2 = ((np.cos(Loc1_Lat) * np.sin(Loc2_Lat)) - (np.sin(Loc1_Lat) * np.cos(Loc2_Lat) * np.cos(deltaLon)))**2\n",
    "    check3 = (np.sin(Loc1_Lat) * np.sin(Loc2_Lat)) + (np.cos(Loc1_Lat) * np.cos(Loc2_Lat) * np.cos(deltaLon))\n",
    "\n",
    "    # Final arc length calculation\n",
    "    deltaArc = np.arctan((np.sqrt(check1 + check2))/(check3))\n",
    "\n",
    "    # Converts arc length to distance in km depending on if/how sigfigs is defined\n",
    "    \n",
    "    if isinstance(sigfigs, bool) == True:\n",
    "        dist = deltaArc * radius\n",
    "    elif isinstance(sigfigs, bool) == False:\n",
    "        print(f\"Calculating dist using sigfigs = {sigfigs}\")\n",
    "        dist = np.around((deltaArc * radius), sigfigs)\n",
    "    return dist\n",
    "\n",
    "print(f'Distance between these points is: {Great_Circle(-106.62, 35.08, -100, 30)} kilometers')"
   ]
  },
  {
   "cell_type": "markdown",
   "metadata": {},
   "source": [
    "### 11. Optional Assignment: programming challenges!\n",
    "Try a programming challenge from \n",
    "https://www.codecademy.com/resources/blog/python-code-challenges-for-beginners/, or https://pythonprinciples.com/challenges/."
   ]
  },
  {
   "cell_type": "code",
   "execution_count": null,
   "metadata": {},
   "outputs": [],
   "source": []
  }
 ],
 "metadata": {
  "kernelspec": {
   "display_name": "Python 3 (ipykernel)",
   "language": "python",
   "name": "python3"
  },
  "language_info": {
   "codemirror_mode": {
    "name": "ipython",
    "version": 3
   },
   "file_extension": ".py",
   "mimetype": "text/x-python",
   "name": "python",
   "nbconvert_exporter": "python",
   "pygments_lexer": "ipython3",
   "version": "3.11.4"
  }
 },
 "nbformat": 4,
 "nbformat_minor": 4
}
