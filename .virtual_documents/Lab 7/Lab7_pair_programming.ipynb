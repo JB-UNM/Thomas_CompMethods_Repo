





# some useful imports and settings
import numpy as np
import pandas as pd
import matplotlib.pyplot as plt
import glob

# better looking figures on high-resolution screens
%config InlineBackend.figure_format = 'retina'

# reload modules if they have changed - necessary when you are editing your own module
%load_ext autoreload
%autoreload 2






