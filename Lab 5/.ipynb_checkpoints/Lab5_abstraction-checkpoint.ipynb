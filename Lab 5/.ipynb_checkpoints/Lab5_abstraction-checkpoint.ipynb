{
 "cells": [
  {
   "cell_type": "markdown",
   "id": "direct-asian",
   "metadata": {},
   "source": [
    "# Lab 5. Abstraction and reusability\n",
    "#### Computational Methods for Geoscience - EPS 400/522\n",
    "#### Instructor: Eric Lindsey\n",
    "\n",
    "Due: Oct. 5, 2023\n",
    "\n",
    "---------"
   ]
  },
  {
   "cell_type": "code",
   "execution_count": 1,
   "id": "center-trail",
   "metadata": {
    "tags": []
   },
   "outputs": [],
   "source": [
    "# some useful imports and settings\n",
    "import numpy as np\n",
    "import pandas as pd\n",
    "import matplotlib.pyplot as plt\n",
    "import glob\n",
    "import scipy\n",
    "\n",
    "# better looking figures on high-resolution screens\n",
    "%config InlineBackend.figure_format = 'retina'\n",
    "\n",
    "# reload modules if they have changed - necessary when you are editing your own module\n",
    "%load_ext autoreload\n",
    "%autoreload 2"
   ]
  },
  {
   "cell_type": "markdown",
   "id": "1a0cc41c-af4c-4539-9352-260e9eb3dee3",
   "metadata": {},
   "source": [
    "### 1. Using glob to find files\n",
    "\n",
    "The folder 'timeseries' (you will have to unzip it first) contains a set of GNSS timeseries from the UNR MAGNET site. Let's explore how 'glob' can interact with these files.\n",
    "\n",
    "1. Use glob to get a list of all the files, and print out each filename.\n",
    "\n",
    "2. The sites starting with a letter 'P' were installed under a single project called the 'Plate Boundary Observatory'. Suppose we wanted to list only those files - can you use 'glob' with wildcards to return only the list of names starting with P?"
   ]
  },
  {
   "cell_type": "code",
   "execution_count": 5,
   "id": "e030db2e-4898-4a86-a986-1f2ab70f0c27",
   "metadata": {
    "tags": []
   },
   "outputs": [
    {
     "name": "stdout",
     "output_type": "stream",
     "text": [
      "<class 'list'>\n"
     ]
    }
   ],
   "source": [
    "files = glob.glob('./timeseries/P*')"
   ]
  },
  {
   "cell_type": "markdown",
   "id": "d2fefebe-70f9-443d-abc5-7766de048ee0",
   "metadata": {
    "tags": []
   },
   "source": [
    "### 2. Write a module to interact with the GNSS timeseries\n",
    "\n",
    "The module should have (at a minimum) the following four functions with their definitions:\n",
    "\n",
    "fit_timeseries(tlist,ylist) - accepts two lists: t (decimal year) and y (displacement timeseries)  as 1-D numpy arrays, and returns the least-squares velocity and uncertainty for that timeseries. If possible, try to re-use the line-fitting code you wrote for Lab 3 for this purpose.\n",
    "\n",
    "fit_velocities(filename) - accepts a filename, reads in the data, and uses fit_timeseries() to estimate the E, N and U components of velocity for that site.\n",
    "\n",
    "get_coordinates(filename) - accepts a filename and returns the average latitude, longitude, and elevation for that site over the time period.\n",
    "\n",
    "fit_all_velocities(folder,pattern) - accepts a folder name and a 'glob' pattern and returns a pandas data frame with the site name, coordinates, velocities and uncertainties.\n",
    "\n",
    "Finally, import your module and demonstrate each function below to show how it works and what it returns."
   ]
  },
  {
   "cell_type": "code",
   "execution_count": 7,
   "id": "754cba95-9568-4e92-a14f-44163332110a",
   "metadata": {
    "tags": []
   },
   "outputs": [
    {
     "name": "stdout",
     "output_type": "stream",
     "text": [
      "[-8.98327330e-05  8.43918725e-01] [[ 9.34682456e-11 -1.88491108e-07]\n",
      " [-1.88491108e-07  3.80118852e-04]]\n",
      "-8.983273297744324e-05 [[ 9.34682456e-11 -1.88491108e-07]\n",
      " [-1.88491108e-07  3.80118852e-04]] 0.0021159823145745506 [[ 5.65194759e-11 -1.13979016e-07]\n",
      " [-1.13979016e-07  2.29854731e-04]] -0.0011656178493711204 [[ 1.03063643e-09 -2.07841502e-06]\n",
      " [-2.07841502e-06  4.19141651e-03]]\n",
      "38.45559843447433 -107.87845670801822 1808.5898754969496\n",
      "   Site  Longitude    Latitude    Elevation  East Velocity (m/s)  \\\n",
      "0  AZCN  36.839793 -107.910962  1862.938836            -0.001096   \n",
      "1  CTI4  37.152918 -107.756091  2017.964552            -0.001705   \n",
      "2  MC10  38.455598 -107.878457  1808.589875            -0.000090   \n",
      "3  NMLG  35.039953 -107.372338  1763.225418            -0.001053   \n",
      "4  P028  36.031685 -107.908410  1933.112591            -0.000758   \n",
      "5  P029  38.439190 -107.638044  2455.374920            -0.003157   \n",
      "6  P034  34.945619 -106.459268  1810.912904            -0.000230   \n",
      "7  RG01  34.667072 -108.043813  2157.544590            -0.001049   \n",
      "8  SC01  34.067953 -106.966543  2097.379776            -0.000562   \n",
      "9  TC01  37.938034 -107.813333  2677.537224            -0.000465   \n",
      "\n",
      "                              East Covariance Matrix  North Velocity (m/s)  \\\n",
      "0  [[1.6976363515426016e-10, -3.404632102596889e-...              0.002620   \n",
      "1  [[8.04671258050641e-11, -1.6240502464120557e-0...              0.001607   \n",
      "2  [[9.346824560446229e-11, -1.8849110828447941e-...              0.002116   \n",
      "3  [[6.097154324909478e-11, -1.2303978511241587e-...              0.001692   \n",
      "4  [[1.57709366783919e-11, -3.177066163974101e-08...              0.001874   \n",
      "5  [[5.2711766043012555e-11, -1.0624038659629177e...             -0.000806   \n",
      "6  [[1.8811372387098963e-11, -3.788395848575166e-...              0.001744   \n",
      "7  [[5.5651562330568644e-11, -1.1196959673932076e...              0.001949   \n",
      "8  [[2.523302867801176e-11, -5.078023812086418e-0...              0.001673   \n",
      "9  [[3.6056690888904877e-09, -7.282125476659285e-...              0.001459   \n",
      "\n",
      "                             North Covariance Matrix  Vertical Velocity (m/s)  \\\n",
      "0  [[7.66771083269987e-11, -1.537769507246734e-07...                -0.000861   \n",
      "1  [[6.935812153026659e-11, -1.3998396654127438e-...                -0.002306   \n",
      "2  [[5.651947588752636e-11, -1.1397901624228268e-...                -0.001166   \n",
      "3  [[5.61310420649183e-11, -1.1327171559186035e-0...                -0.000454   \n",
      "4  [[2.6812116688915634e-11, -5.401319511364928e-...                -0.000650   \n",
      "5  [[5.358277275930981e-11, -1.0799589877801239e-...                 0.002059   \n",
      "6  [[1.2762137837044711e-11, -2.570149004891444e-...                -0.000354   \n",
      "7  [[7.992973918681252e-11, -1.6081670093701646e-...                -0.001694   \n",
      "8  [[2.2167963251698242e-11, -4.4611943817479995e...                 0.000436   \n",
      "9  [[2.107639622054867e-09, -4.256656938776288e-0...                -0.000501   \n",
      "\n",
      "                          Vertical Covariance Matrix  \n",
      "0  [[8.084001944268164e-10, -1.621257246327091e-0...  \n",
      "1  [[1.788229049332478e-09, -3.6091432151161397e-...  \n",
      "2  [[1.0306364303979294e-09, -2.078415023384144e-...  \n",
      "3  [[4.708712731747109e-10, -9.502121253305671e-0...  \n",
      "4  [[9.428539346838236e-11, -1.8993858047721548e-...  \n",
      "5  [[1.9637543540599253e-10, -3.9579402659780204e...  \n",
      "6  [[1.236626145844574e-10, -2.490424020516059e-0...  \n",
      "7  [[4.717386026987692e-10, -9.491266539683686e-0...  \n",
      "8  [[1.0654868815549186e-10, -2.144240329006139e-...  \n",
      "9  [[2.1383107885026476e-08, -4.3186013490198124e...  \n"
     ]
    }
   ],
   "source": [
    "import gpstools as gp\n",
    "import pandas as pd\n",
    "\n",
    "test_gps_data = pd.read_csv('./timeseries/MC10.NA.tenv3',sep='\\s+')\n",
    "\n",
    "lsv, uncer = gp.fit_timeseries(test_gps_data['yyyy.yyyy'],test_gps_data['__east(m)'])\n",
    "print(lsv, uncer)\n",
    "\n",
    "east_velocity, east_uncertainty, north_velocity, north_uncertainty, vert_velocity, vert_uncertainty = gp.fit_velocities('./timeseries/MC10.NA.tenv3')\n",
    "print(east_velocity, east_uncertainty, north_velocity, north_uncertainty, vert_velocity, vert_uncertainty)\n",
    "\n",
    "lat_avg, lon_avg, elev_avg = gp.get_coordinates('./timeseries/MC10.NA.tenv3')\n",
    "print(lat_avg, lon_avg, elev_avg)\n",
    "\n",
    "gps_df = gp.fit_all_velocities('timeseries','*.tenv3')\n",
    "print(gps_df)"
   ]
  },
  {
   "cell_type": "markdown",
   "id": "27ff7646-860f-4a87-accd-a77e1c41d0a4",
   "metadata": {},
   "source": [
    "### 3. Upload the module to GitHub, along with a README.md file explaining briefly how to use it.\n",
    "\n",
    "Enter a link to your GitHub repository here for me to check out: \n"
   ]
  },
  {
   "cell_type": "markdown",
   "id": "141c8fb3-05cd-486f-8cac-32ff52075e84",
   "metadata": {},
   "source": [
    "https://github.com/geothomaslee/EPS522_03/tree/main/Lab%205"
   ]
  },
  {
   "cell_type": "markdown",
   "id": "e8beca1f-c264-4bb0-8bdb-393a3f1194b3",
   "metadata": {},
   "source": [
    "### 4. Use the timeseries calculation module you created\n",
    "\n",
    "Using at most 5 lines of code, import the module you created above and use it to estimate the timeseries for all 10 of the sites, print them out, and save the results to a new file 'site_velocities.csv'. Feel free to download more sites as well and put them in the folder too!"
   ]
  },
  {
   "cell_type": "code",
   "execution_count": 10,
   "id": "1394f71a-8eba-42d7-81a9-23c5b108a9f4",
   "metadata": {},
   "outputs": [
    {
     "name": "stdout",
     "output_type": "stream",
     "text": [
      "   Site  Longitude    Latitude    Elevation  East Velocity (m/s)  \\\n",
      "0  AZCN  36.839793 -107.910962  1862.938836            -0.001096   \n",
      "1  CTI4  37.152918 -107.756091  2017.964552            -0.001705   \n",
      "2  MC10  38.455598 -107.878457  1808.589875            -0.000090   \n",
      "3  NMLG  35.039953 -107.372338  1763.225418            -0.001053   \n",
      "4  P028  36.031685 -107.908410  1933.112591            -0.000758   \n",
      "5  P029  38.439190 -107.638044  2455.374920            -0.003157   \n",
      "6  P034  34.945619 -106.459268  1810.912904            -0.000230   \n",
      "7  RG01  34.667072 -108.043813  2157.544590            -0.001049   \n",
      "8  SC01  34.067953 -106.966543  2097.379776            -0.000562   \n",
      "9  TC01  37.938034 -107.813333  2677.537224            -0.000465   \n",
      "\n",
      "                              East Covariance Matrix  North Velocity (m/s)  \\\n",
      "0  [[1.6976363515426016e-10, -3.404632102596889e-...              0.002620   \n",
      "1  [[8.04671258050641e-11, -1.6240502464120557e-0...              0.001607   \n",
      "2  [[9.346824560446229e-11, -1.8849110828447941e-...              0.002116   \n",
      "3  [[6.097154324909478e-11, -1.2303978511241587e-...              0.001692   \n",
      "4  [[1.57709366783919e-11, -3.177066163974101e-08...              0.001874   \n",
      "5  [[5.2711766043012555e-11, -1.0624038659629177e...             -0.000806   \n",
      "6  [[1.8811372387098963e-11, -3.788395848575166e-...              0.001744   \n",
      "7  [[5.5651562330568644e-11, -1.1196959673932076e...              0.001949   \n",
      "8  [[2.523302867801176e-11, -5.078023812086418e-0...              0.001673   \n",
      "9  [[3.6056690888904877e-09, -7.282125476659285e-...              0.001459   \n",
      "\n",
      "                             North Covariance Matrix  Vertical Velocity (m/s)  \\\n",
      "0  [[7.66771083269987e-11, -1.537769507246734e-07...                -0.000861   \n",
      "1  [[6.935812153026659e-11, -1.3998396654127438e-...                -0.002306   \n",
      "2  [[5.651947588752636e-11, -1.1397901624228268e-...                -0.001166   \n",
      "3  [[5.61310420649183e-11, -1.1327171559186035e-0...                -0.000454   \n",
      "4  [[2.6812116688915634e-11, -5.401319511364928e-...                -0.000650   \n",
      "5  [[5.358277275930981e-11, -1.0799589877801239e-...                 0.002059   \n",
      "6  [[1.2762137837044711e-11, -2.570149004891444e-...                -0.000354   \n",
      "7  [[7.992973918681252e-11, -1.6081670093701646e-...                -0.001694   \n",
      "8  [[2.2167963251698242e-11, -4.4611943817479995e...                 0.000436   \n",
      "9  [[2.107639622054867e-09, -4.256656938776288e-0...                -0.000501   \n",
      "\n",
      "                          Vertical Covariance Matrix  \n",
      "0  [[8.084001944268164e-10, -1.621257246327091e-0...  \n",
      "1  [[1.788229049332478e-09, -3.6091432151161397e-...  \n",
      "2  [[1.0306364303979294e-09, -2.078415023384144e-...  \n",
      "3  [[4.708712731747109e-10, -9.502121253305671e-0...  \n",
      "4  [[9.428539346838236e-11, -1.8993858047721548e-...  \n",
      "5  [[1.9637543540599253e-10, -3.9579402659780204e...  \n",
      "6  [[1.236626145844574e-10, -2.490424020516059e-0...  \n",
      "7  [[4.717386026987692e-10, -9.491266539683686e-0...  \n",
      "8  [[1.0654868815549186e-10, -2.144240329006139e-...  \n",
      "9  [[2.1383107885026476e-08, -4.3186013490198124e...  \n"
     ]
    }
   ],
   "source": [
    "import gpstools\n",
    "gps_df = gpstools.fit_all_velocities(\"timeseries\",\"*.tenv3\",'GNSS')\n",
    "print(gps_df)\n",
    "gps_df.to_csv('site_velocities.csv')"
   ]
  },
  {
   "cell_type": "markdown",
   "id": "coupled-terminology",
   "metadata": {},
   "source": [
    "### 5. Re-use your module to estimate sea level rise rates\n",
    "\n",
    "Go to the following page and download at least 5 monthly sea level timeseries spanning at least 100 years: https://psmsl.org/products/gloss/glossmap.html. Place them in a new folder.\n",
    "\n",
    "(To download the data: click a station icon on the map, then click the station number/name (first link in the pop-up, e.g. \"155: Honolulu\". Then right-click the link next to the plot of monthly data (\"Download monthly mean sea level data.\") and save it as a file.)\n",
    "\n",
    "Now, create a new function \"fit_tide_gauge\" in your module that re-uses your function \"fit_timeseries\" to return the relative sea level rate of change for a given station. \n",
    "\n",
    "Next, modify your function \"fit_all_velocities\" to accept a \"type\" parameter (GNSS or tide), and re-use it to estimate the rates for all the tide gauges you downloaded. Print out the results below.\n",
    "\n",
    "Finally, update your github repository with this new version of the module.\n"
   ]
  },
  {
   "cell_type": "code",
   "execution_count": 18,
   "id": "f9dee49e-817a-47b2-af0d-fb6e811650f3",
   "metadata": {},
   "outputs": [
    {
     "name": "stdout",
     "output_type": "stream",
     "text": [
      "Rate of sea level change: 66.67954613602778 mm/year\n"
     ]
    }
   ],
   "source": [
    "import gpstools\n",
    "\n",
    "def fit_tide_gauge(tlist, ylist):\n",
    "    \"\"\"\n",
    "    Parameters\n",
    "    ----------\n",
    "    tlist: np.array of the times for the time series, as a decimal year\n",
    "    ylist: np.array of the tide-gauge timeseries y-values\n",
    "    \n",
    "    Returns least_squares_gauge and uncertainty\n",
    "    -------\n",
    "    Notes\n",
    "    \"\"\"\n",
    "    def linear_func(x, a, b):\n",
    "        return a*x + b\n",
    "\n",
    "    least_squares_velocity, uncertainty = scipy.optimize.curve_fit(f = linear_func,\n",
    "                                                                   xdata = tlist,\n",
    "                                                                   ydata = ylist)\n",
    "    \n",
    "    return least_squares_velocity, uncertainty\n",
    "\n",
    "sea_level_data = pd.read_csv('./sealevel/tredge_302.rlrdata',\n",
    "                             sep=';', names=['year','mm','GNSS','also idk'])\n",
    "\n",
    "sea_level, sea_level_uncer = fit_tide_gauge(sea_level_data['year'],sea_level_data['mm'])\n",
    "print(f'Rate of sea level change: {sea_level[0]} mm/year')"
   ]
  },
  {
   "cell_type": "code",
   "execution_count": 34,
   "id": "fb246cfa-f2e5-4c85-aa27-a53a2d3411f3",
   "metadata": {},
   "outputs": [
    {
     "name": "stdout",
     "output_type": "stream",
     "text": [
      "           year    mm  idk  also idk\n",
      "0     1909.7917  7164    0         0\n",
      "1     1909.8750  7324    0         0\n",
      "2     1909.9583  7274    0         0\n",
      "3     1910.0417  7294    0         0\n",
      "4     1910.1250  7164    0         0\n",
      "...         ...   ...  ...       ...\n",
      "1342  2021.6250  6914    0         0\n",
      "1343  2021.7083  6944    0         0\n",
      "1344  2021.7917  7074    0         0\n",
      "1345  2021.8750  7114    0         0\n",
      "1346  2021.9583  7184    0         0\n",
      "\n",
      "[1347 rows x 4 columns]\n",
      "0       7164\n",
      "1       7324\n",
      "2       7274\n",
      "3       7294\n",
      "4       7164\n",
      "        ... \n",
      "1342    6914\n",
      "1343    6944\n",
      "1344    7074\n",
      "1345    7114\n",
      "1346    7184\n",
      "Name: mm, Length: 1347, dtype: int64\n"
     ]
    },
    {
     "data": {
      "text/plain": [
       "\"\\nimport importlib\\nimportlib.reload(gpstools)\\ntest_tide_df = gpstools.fit_all_velocities('sealevel','*.rlr*','Tide')\\nprint(test_tide_df)\\n\""
      ]
     },
     "execution_count": 34,
     "metadata": {},
     "output_type": "execute_result"
    }
   ],
   "source": [
    "import scipy.stats as stats\n",
    "\n",
    "tide_data = pd.read_csv('./sealevel/tofino_165.rlrdata',\n",
    "                        sep=';',\n",
    "                        names=['year','mm','idk','also idk'])\n",
    "\n",
    "print(tide_data)\n",
    "\n",
    "tide_data_mm = tide_data['mm']\n",
    "print(tide_data_mm)\n",
    "\n",
    "\"\"\"\n",
    "import importlib\n",
    "importlib.reload(gpstools)\n",
    "test_tide_df = gpstools.fit_all_velocities('sealevel','*.rlr*','Tide')\n",
    "print(test_tide_df)\n",
    "\"\"\""
   ]
  },
  {
   "cell_type": "code",
   "execution_count": null,
   "id": "a09affe1-4cca-41dd-bdee-ff937cd24869",
   "metadata": {},
   "outputs": [],
   "source": []
  }
 ],
 "metadata": {
  "kernelspec": {
   "display_name": "Python 3 (ipykernel)",
   "language": "python",
   "name": "python3"
  },
  "language_info": {
   "codemirror_mode": {
    "name": "ipython",
    "version": 3
   },
   "file_extension": ".py",
   "mimetype": "text/x-python",
   "name": "python",
   "nbconvert_exporter": "python",
   "pygments_lexer": "ipython3",
   "version": "3.11.4"
  }
 },
 "nbformat": 4,
 "nbformat_minor": 5
}
