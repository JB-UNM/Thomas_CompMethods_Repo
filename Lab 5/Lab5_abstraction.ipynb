{
 "cells": [
  {
   "cell_type": "markdown",
   "id": "direct-asian",
   "metadata": {},
   "source": [
    "# Lab 5. Abstraction and reusability\n",
    "#### Computational Methods for Geoscience - EPS 400/522\n",
    "#### Instructor: Eric Lindsey\n",
    "\n",
    "Due: Oct. 5, 2023\n",
    "\n",
    "---------"
   ]
  },
  {
   "cell_type": "code",
   "execution_count": 12,
   "id": "center-trail",
   "metadata": {
    "tags": []
   },
   "outputs": [
    {
     "name": "stdout",
     "output_type": "stream",
     "text": [
      "The autoreload extension is already loaded. To reload it, use:\n",
      "  %reload_ext autoreload\n"
     ]
    }
   ],
   "source": [
    "# some useful imports and settings\n",
    "import numpy as np\n",
    "import pandas as pd\n",
    "import matplotlib.pyplot as plt\n",
    "import glob\n",
    "import scipy\n",
    "\n",
    "# better looking figures on high-resolution screens\n",
    "%config InlineBackend.figure_format = 'retina'\n",
    "\n",
    "# reload modules if they have changed - necessary when you are editing your own module\n",
    "%load_ext autoreload\n",
    "%autoreload 2"
   ]
  },
  {
   "cell_type": "markdown",
   "id": "1a0cc41c-af4c-4539-9352-260e9eb3dee3",
   "metadata": {},
   "source": [
    "### 1. Using glob to find files\n",
    "\n",
    "The folder 'timeseries' (you will have to unzip it first) contains a set of GNSS timeseries from the UNR MAGNET site. Let's explore how 'glob' can interact with these files.\n",
    "\n",
    "1. Use glob to get a list of all the files, and print out each filename.\n",
    "\n",
    "2. The sites starting with a letter 'P' were installed under a single project called the 'Plate Boundary Observatory'. Suppose we wanted to list only those files - can you use 'glob' with wildcards to return only the list of names starting with P?"
   ]
  },
  {
   "cell_type": "code",
   "execution_count": 5,
   "id": "e030db2e-4898-4a86-a986-1f2ab70f0c27",
   "metadata": {
    "tags": []
   },
   "outputs": [
    {
     "name": "stdout",
     "output_type": "stream",
     "text": [
      "<class 'list'>\n"
     ]
    }
   ],
   "source": [
    "files = glob.glob('./timeseries/P*')"
   ]
  },
  {
   "cell_type": "markdown",
   "id": "d2fefebe-70f9-443d-abc5-7766de048ee0",
   "metadata": {
    "tags": []
   },
   "source": [
    "### 2. Write a module to interact with the GNSS timeseries\n",
    "\n",
    "The module should have (at a minimum) the following four functions with their definitions:\n",
    "\n",
    "fit_timeseries(tlist,ylist) - accepts two lists: t (decimal year) and y (displacement timeseries)  as 1-D numpy arrays, and returns the least-squares velocity and uncertainty for that timeseries. If possible, try to re-use the line-fitting code you wrote for Lab 3 for this purpose.\n",
    "\n",
    "fit_velocities(filename) - accepts a filename, reads in the data, and uses fit_timeseries() to estimate the E, N and U components of velocity for that site.\n",
    "\n",
    "get_coordinates(filename) - accepts a filename and returns the average latitude, longitude, and elevation for that site over the time period.\n",
    "\n",
    "fit_all_velocities(folder,pattern) - accepts a folder name and a 'glob' pattern and returns a pandas data frame with the site name, coordinates, velocities and uncertainties.\n",
    "\n",
    "Finally, import your module and demonstrate each function below to show how it works and what it returns."
   ]
  },
  {
   "cell_type": "code",
   "execution_count": 52,
   "id": "754cba95-9568-4e92-a14f-44163332110a",
   "metadata": {
    "tags": []
   },
   "outputs": [
    {
     "name": "stdout",
     "output_type": "stream",
     "text": [
      "   Site  Longitude    Latitude    Elevation  East Velocity (m/s)  \\\n",
      "0  AZCN  36.839793 -107.910962  1862.938836            -0.001096   \n",
      "1  CTI4  37.152918 -107.756091  2017.964552            -0.001705   \n",
      "2  MC10  38.455598 -107.878457  1808.589875            -0.000090   \n",
      "3  NMLG  35.039953 -107.372338  1763.225418            -0.001053   \n",
      "4  P028  36.031685 -107.908410  1933.112591            -0.000758   \n",
      "5  P029  38.439190 -107.638044  2455.374920            -0.003157   \n",
      "6  P034  34.945619 -106.459268  1810.912904            -0.000230   \n",
      "7  RG01  34.667072 -108.043813  2157.544590            -0.001049   \n",
      "8  SC01  34.067953 -106.966543  2097.379776            -0.000562   \n",
      "9  TC01  37.938034 -107.813333  2677.537224            -0.000465   \n",
      "\n",
      "                              East Covariance Matrix  North Velocity (m/s)  \\\n",
      "0  [[1.6976363515426016e-10, -3.404632102596889e-...              0.002620   \n",
      "1  [[8.04671258050641e-11, -1.6240502464120557e-0...              0.001607   \n",
      "2  [[9.346824560446229e-11, -1.8849110828447941e-...              0.002116   \n",
      "3  [[6.097154324909478e-11, -1.2303978511241587e-...              0.001692   \n",
      "4  [[1.57709366783919e-11, -3.177066163974101e-08...              0.001874   \n",
      "5  [[5.2711766043012555e-11, -1.0624038659629177e...             -0.000806   \n",
      "6  [[1.8811372387098963e-11, -3.788395848575166e-...              0.001744   \n",
      "7  [[5.5651562330568644e-11, -1.1196959673932076e...              0.001949   \n",
      "8  [[2.523302867801176e-11, -5.078023812086418e-0...              0.001673   \n",
      "9  [[3.6056690888904877e-09, -7.282125476659285e-...              0.001459   \n",
      "\n",
      "                             North Covariance Matrix  Vertical Velocity (m/s)  \\\n",
      "0  [[7.66771083269987e-11, -1.537769507246734e-07...                -0.000861   \n",
      "1  [[6.935812153026659e-11, -1.3998396654127438e-...                -0.002306   \n",
      "2  [[5.651947588752636e-11, -1.1397901624228268e-...                -0.001166   \n",
      "3  [[5.61310420649183e-11, -1.1327171559186035e-0...                -0.000454   \n",
      "4  [[2.6812116688915634e-11, -5.401319511364928e-...                -0.000650   \n",
      "5  [[5.358277275930981e-11, -1.0799589877801239e-...                 0.002059   \n",
      "6  [[1.2762137837044711e-11, -2.570149004891444e-...                -0.000354   \n",
      "7  [[7.992973918681252e-11, -1.6081670093701646e-...                -0.001694   \n",
      "8  [[2.2167963251698242e-11, -4.4611943817479995e...                 0.000436   \n",
      "9  [[2.107639622054867e-09, -4.256656938776288e-0...                -0.000501   \n",
      "\n",
      "                          Vertical Covariance Matrix  \n",
      "0  [[8.084001944268164e-10, -1.621257246327091e-0...  \n",
      "1  [[1.788229049332478e-09, -3.6091432151161397e-...  \n",
      "2  [[1.0306364303979294e-09, -2.078415023384144e-...  \n",
      "3  [[4.708712731747109e-10, -9.502121253305671e-0...  \n",
      "4  [[9.428539346838236e-11, -1.8993858047721548e-...  \n",
      "5  [[1.9637543540599253e-10, -3.9579402659780204e...  \n",
      "6  [[1.236626145844574e-10, -2.490424020516059e-0...  \n",
      "7  [[4.717386026987692e-10, -9.491266539683686e-0...  \n",
      "8  [[1.0654868815549186e-10, -2.144240329006139e-...  \n",
      "9  [[2.1383107885026476e-08, -4.3186013490198124e...  \n"
     ]
    }
   ],
   "source": [
    "import gpstools as gp\n",
    "\n",
    "gps_df = gp.fit_all_velocities('timeseries','*.tenv3')\n",
    "\n",
    "print(gps_df)"
   ]
  },
  {
   "cell_type": "markdown",
   "id": "27ff7646-860f-4a87-accd-a77e1c41d0a4",
   "metadata": {},
   "source": [
    "### 3. Upload the module to GitHub, along with a README.md file explaining briefly how to use it.\n",
    "\n",
    "Enter a link to your GitHub repository here for me to check out: \n"
   ]
  },
  {
   "cell_type": "markdown",
   "id": "141c8fb3-05cd-486f-8cac-32ff52075e84",
   "metadata": {},
   "source": []
  },
  {
   "cell_type": "markdown",
   "id": "e8beca1f-c264-4bb0-8bdb-393a3f1194b3",
   "metadata": {},
   "source": [
    "### 4. Use the timeseries calculation module you created\n",
    "\n",
    "Using at most 5 lines of code, import the module you created above and use it to estimate the timeseries for all 10 of the sites, print them out, and save the results to a new file 'site_velocities.csv'. Feel free to download more sites as well and put them in the folder too!\n"
   ]
  },
  {
   "cell_type": "code",
   "execution_count": null,
   "id": "1394f71a-8eba-42d7-81a9-23c5b108a9f4",
   "metadata": {},
   "outputs": [],
   "source": []
  },
  {
   "cell_type": "markdown",
   "id": "coupled-terminology",
   "metadata": {},
   "source": [
    "### 5. Re-use your module to estimate sea level rise rates\n",
    "\n",
    "Go to the following page and download at least 5 monthly sea level timeseries spanning at least 100 years: https://psmsl.org/products/gloss/glossmap.html. Place them in a new folder.\n",
    "\n",
    "(To download the data: click a station icon on the map, then click the station number/name (first link in the pop-up, e.g. \"155: Honolulu\". Then right-click the link next to the plot of monthly data (\"Download monthly mean sea level data.\") and save it as a file.)\n",
    "\n",
    "Now, create a new function \"fit_tide_gauge\" in your module that re-uses your function \"fit_timeseries\" to return the relative sea level rate of change for a given station. \n",
    "\n",
    "Next, modify your function \"fit_all_velocities\" to accept a \"type\" parameter (GNSS or tide), and re-use it to estimate the rates for all the tide gauges you downloaded. Print out the results below.\n",
    "\n",
    "Finally, update your github repository with this new version of the module.\n"
   ]
  },
  {
   "cell_type": "code",
   "execution_count": null,
   "id": "f9dee49e-817a-47b2-af0d-fb6e811650f3",
   "metadata": {},
   "outputs": [],
   "source": []
  }
 ],
 "metadata": {
  "kernelspec": {
   "display_name": "Python 3 (ipykernel)",
   "language": "python",
   "name": "python3"
  },
  "language_info": {
   "codemirror_mode": {
    "name": "ipython",
    "version": 3
   },
   "file_extension": ".py",
   "mimetype": "text/x-python",
   "name": "python",
   "nbconvert_exporter": "python",
   "pygments_lexer": "ipython3",
   "version": "3.11.4"
  }
 },
 "nbformat": 4,
 "nbformat_minor": 5
}
